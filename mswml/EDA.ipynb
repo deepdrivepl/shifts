{
 "cells": [
  {
   "cell_type": "markdown",
   "id": "6171a378-fd45-4b27-8591-e8d8c27f6591",
   "metadata": {
    "tags": []
   },
   "source": [
    "# Exploratory Data Analysis\n",
    "\n",
    "Data description can be found in the [Shifts 2.0: Extending The Dataset of Real Distributional Shifts](https://arxiv.org/pdf/2206.15407.pdf) paper.\n",
    "\n",
    "All input images have the following preprocessing applied:\n",
    "- Denoising\n",
    "- Skull stripping (brain mask calculated from the T1 images registered to the FLAIR space)\n",
    "- Bias field correction\n",
    "- Interpolation to the 1 mm isovoxel space (input images are linearly interpolated while all masks are interpolated using nearest neighbour)\n",
    "\n",
    "The data is shared as a series of compressed *.nii* files."
   ]
  },
  {
   "cell_type": "code",
   "execution_count": 13,
   "id": "f2f03d73-8ba6-402a-8483-49de415bb498",
   "metadata": {},
   "outputs": [],
   "source": [
    "import numpy as np\n",
    "import os\n",
    "import re\n",
    "import pandas as pd\n",
    "from glob import glob\n",
    "import nibabel as nib\n",
    "import matplotlib.pyplot as plt\n",
    "import seaborn as sns\n",
    "sns.set(style='white', font_scale=1.5)"
   ]
  },
  {
   "cell_type": "markdown",
   "id": "c082b9da-0907-4843-9961-19d33c866727",
   "metadata": {},
   "source": [
    "## Collect paths to images from train, dev_in and eval_in sets"
   ]
  },
  {
   "cell_type": "code",
   "execution_count": 3,
   "id": "e5ba029b-0220-4263-9575-48ab07f651ea",
   "metadata": {},
   "outputs": [],
   "source": [
    "train_paths = ['../data/shifts_ms_pt1/msseg/train/flair', '../data/shifts_ms_pt2/best/train/flair']\n",
    "train_lbl_paths = ['../data/shifts_ms_pt1/msseg/train/gt', '../data/shifts_ms_pt2/best/train/gt']\n",
    "train_mask_paths = ['../data/shifts_ms_pt1/msseg/train/fg_mask', '../data/shifts_ms_pt2/best/train/fg_mask']\n",
    "\n",
    "devin_paths = ['../data/shifts_ms_pt1/msseg/dev_in/flair', '../data/shifts_ms_pt2/best/dev_in/flair']\n",
    "devin_lbl_paths = ['../data/shifts_ms_pt1/msseg/dev_in/gt', '../data/shifts_ms_pt2/best/dev_in/gt']\n",
    "devin_mask_paths = ['../data/shifts_ms_pt1/msseg/dev_in/fg_mask', '../data/shifts_ms_pt2/best/dev_in/fg_mask']\n",
    "\n",
    "evalin_paths = ['../data/shifts_ms_pt1/msseg/eval_in/flair', '../data/shifts_ms_pt2/best/eval_in/flair']\n",
    "evalin_lbl_paths = ['../data/shifts_ms_pt1/msseg/eval_in/gt', '../data/shifts_ms_pt2/best/eval_in/gt']\n",
    "evalin_mask_paths = ['../data/shifts_ms_pt1/msseg/eval_in/fg_mask', '../data/shifts_ms_pt2/best/eval_in/fg_mask']\n",
    "\n",
    "devout_paths = ['../data/shifts_ms_pt2/ljubljana/dev_out/flair']\n",
    "devout_lbl_paths = ['../data/shifts_ms_pt2/ljubljana/dev_out/gt']\n",
    "devout_mask_paths = ['../data/shifts_ms_pt2/ljubljana/dev_out/fg_mask']"
   ]
  },
  {
   "cell_type": "code",
   "execution_count": 4,
   "id": "ca2e741e-922c-456b-b3b2-ec99d71e3b6f",
   "metadata": {},
   "outputs": [],
   "source": [
    "def get_paths(img_paths, lbl_paths, mask_paths):\n",
    "    images_paths, labels_paths, masks_paths = [], [], []\n",
    "    for flair_path, gts_path, mask_path in zip(img_paths, lbl_paths, mask_paths):\n",
    "        images_paths += sorted(glob(os.path.join(flair_path, \"*FLAIR_isovox.nii.gz\")), key=lambda i: int(re.sub('\\D', '', i)))\n",
    "        labels_paths += sorted(glob(os.path.join(gts_path, \"*gt_isovox.nii.gz\")), key=lambda i: int(re.sub('\\D', '', i)))\n",
    "        masks_paths += sorted(glob(os.path.join(mask_path, \"*isovox_fg_mask.nii.gz\")), key=lambda i: int(re.sub('\\D', '', i)))\n",
    "        \n",
    "    return images_paths, labels_paths, masks_paths\n",
    "\n",
    "train_images, train_labels, train_masks = get_paths(train_paths, train_lbl_paths, train_mask_paths)\n",
    "devin_images, devin_labels, devin_masks = get_paths(devin_paths, devin_lbl_paths, devin_mask_paths)\n",
    "evalin_images, evalin_labels, evalin_masks = get_paths(evalin_paths, evalin_lbl_paths, evalin_mask_paths)\n",
    "devout_images, devout_labels, devout_masks = get_paths(devout_paths, devout_lbl_paths, devout_mask_paths)"
   ]
  },
  {
   "cell_type": "markdown",
   "id": "64b45aee-34ac-4889-af3c-8102fd6d5e92",
   "metadata": {},
   "source": [
    "Check:"
   ]
  },
  {
   "cell_type": "code",
   "execution_count": null,
   "id": "04a3b522-cbb4-4a7e-b58d-dd962c010b83",
   "metadata": {},
   "outputs": [],
   "source": [
    "train_images[5], train_labels[5], train_masks[5], len(train_images), len(train_labels), len(train_masks)"
   ]
  },
  {
   "cell_type": "code",
   "execution_count": null,
   "id": "82220c55-aa77-47c9-bca1-7bad44be5b29",
   "metadata": {},
   "outputs": [],
   "source": [
    "devin_images[5], devin_labels[5], devin_masks[5], len(devin_images), len(devin_labels), len(devin_masks)"
   ]
  },
  {
   "cell_type": "code",
   "execution_count": null,
   "id": "d2055148-2b72-4625-a075-9dc7eab9be22",
   "metadata": {},
   "outputs": [],
   "source": [
    "evalin_images[5], evalin_labels[5], evalin_masks[5], len(evalin_images), len(evalin_labels), len(evalin_masks)"
   ]
  },
  {
   "cell_type": "code",
   "execution_count": null,
   "id": "0e0dc354-91bc-4a4f-968c-792865bf3546",
   "metadata": {},
   "outputs": [],
   "source": [
    "devout_images[5], devout_labels[5], devout_masks[5], len(devout_images), len(devout_labels), len(devout_masks)"
   ]
  },
  {
   "cell_type": "markdown",
   "id": "8391c0c1-cd82-4bb3-9095-b1fe0e7f700f",
   "metadata": {},
   "source": [
    "## Images"
   ]
  },
  {
   "cell_type": "code",
   "execution_count": 410,
   "id": "b6b39b38-dd60-498f-88ea-750125af3d04",
   "metadata": {},
   "outputs": [],
   "source": [
    "def plot_example_images(img_path, title, sag_idx, cor_idx, ax_idx, lbl_path=None):\n",
    "    img = nib.load(img_path).get_fdata()\n",
    "    if lbl_path:\n",
    "        lbl = nib.load(lbl_path).get_fdata()\n",
    "\n",
    "    plt.figure(figsize=(30,15), tight_layout=True)\n",
    "    plt.suptitle(title)\n",
    "    plt.subplot(231)\n",
    "    plt.imshow(img[sag_idx,...], cmap='gray')\n",
    "    plt.title('Sagittal')\n",
    "    plt.subplot(232)\n",
    "    plt.imshow(img[:,cor_idx,:], cmap='gray')\n",
    "    plt.title('Coronal')\n",
    "    plt.subplot(233)\n",
    "    plt.imshow(img[...,ax_idx], cmap='gray')\n",
    "    plt.title('Axial')\n",
    "    \n",
    "    if lbl_path:\n",
    "        plt.subplot(234)\n",
    "        plt.imshow(img[sag_idx,...], cmap='gray')\n",
    "        plt.imshow(lbl[sag_idx,...], alpha=lbl[sag_idx,...])\n",
    "        plt.subplot(235)\n",
    "        plt.imshow(img[:,cor_idx,:], cmap='gray')\n",
    "        plt.imshow(lbl[:,cor_idx,:], alpha=lbl[:,cor_idx,:])\n",
    "        plt.subplot(236)\n",
    "        plt.imshow(img[...,ax_idx], cmap='gray')\n",
    "        plt.imshow(lbl[...,ax_idx], alpha=lbl[...,ax_idx]);"
   ]
  },
  {
   "cell_type": "code",
   "execution_count": null,
   "id": "8185557c-9810-4b4e-aff2-20eeeb9cbd6f",
   "metadata": {},
   "outputs": [],
   "source": [
    "plot_example_images(train_images[0], 'train', 100, 120, 150, train_labels[0])"
   ]
  },
  {
   "cell_type": "code",
   "execution_count": null,
   "id": "e5592059-dcc4-40c1-993d-e94e9039e521",
   "metadata": {},
   "outputs": [],
   "source": [
    "plot_example_images(devin_images[-2], 'dev_in', 100, 120, 150, devin_labels[-2])"
   ]
  },
  {
   "cell_type": "code",
   "execution_count": null,
   "id": "8a85179f-d260-438d-8c54-1c66f1443de1",
   "metadata": {},
   "outputs": [],
   "source": [
    "plot_example_images(evalin_images[-1], 'eval_in', 100, 140, 70, evalin_labels[-1])"
   ]
  },
  {
   "cell_type": "code",
   "execution_count": null,
   "id": "bf5a74d3-ac42-4f76-b531-60634fea9b0f",
   "metadata": {
    "tags": []
   },
   "outputs": [],
   "source": [
    "plot_example_images(devout_images[10], 'dev_out', 100, 120, 150, devout_labels[10])"
   ]
  },
  {
   "cell_type": "markdown",
   "id": "9588297c-c227-4904-a393-01219b5dd5c5",
   "metadata": {},
   "source": [
    "### Shapes"
   ]
  },
  {
   "cell_type": "code",
   "execution_count": 9,
   "id": "3ddfc7f7-aaed-4b4b-8715-11ab0ad743b3",
   "metadata": {},
   "outputs": [],
   "source": [
    "def get_shapes(paths):\n",
    "    shapes = []\n",
    "    for img_path in paths:\n",
    "        img = nib.load(img_path).get_fdata()\n",
    "        shapes.append(img.shape)\n",
    "    return np.asarray(shapes)"
   ]
  },
  {
   "cell_type": "code",
   "execution_count": null,
   "id": "20fae523-3043-45f3-8684-77e334c326e8",
   "metadata": {
    "tags": []
   },
   "outputs": [],
   "source": [
    "train_shapes = get_shapes(train_images)\n",
    "train_shapes"
   ]
  },
  {
   "cell_type": "markdown",
   "id": "2705449f-98d4-4ead-acc0-81515488f0d4",
   "metadata": {},
   "source": [
    "Min and max shape in each axis:"
   ]
  },
  {
   "cell_type": "code",
   "execution_count": 170,
   "id": "db5c3941-491c-426f-aea9-f68b1e0cc175",
   "metadata": {},
   "outputs": [
    {
     "name": "stdout",
     "output_type": "stream",
     "text": [
      "0 158 212\n",
      "1 212 260\n",
      "2 151 265\n"
     ]
    }
   ],
   "source": [
    "for i in range(3):\n",
    "    print(i, np.min(train_shapes[:,i]), np.max(train_shapes[:,i]))"
   ]
  },
  {
   "cell_type": "code",
   "execution_count": 11,
   "id": "ce712202-29b7-4d00-aff2-9c896a23ed16",
   "metadata": {},
   "outputs": [
    {
     "name": "stdout",
     "output_type": "stream",
     "text": [
      "0 158 212\n",
      "1 212 260\n",
      "2 151 265\n"
     ]
    }
   ],
   "source": [
    "devin_shapes = get_shapes(devin_images)\n",
    "for i in range(3):\n",
    "    print(i, np.min(devin_shapes[:,i]), np.max(devin_shapes[:,i]))"
   ]
  },
  {
   "cell_type": "code",
   "execution_count": 12,
   "id": "794c11fc-c91c-433d-9627-df071c813cc8",
   "metadata": {},
   "outputs": [
    {
     "name": "stdout",
     "output_type": "stream",
     "text": [
      "0 158 212\n",
      "1 212 256\n",
      "2 151 270\n"
     ]
    }
   ],
   "source": [
    "evalin_shapes = get_shapes(evalin_images) \n",
    "for i in range(3):\n",
    "    print(i, np.min(evalin_shapes[:,i]), np.max(evalin_shapes[:,i]))"
   ]
  },
  {
   "cell_type": "code",
   "execution_count": 13,
   "id": "7b8674cd-5f32-4f2d-a55d-266876190bef",
   "metadata": {},
   "outputs": [
    {
     "name": "stdout",
     "output_type": "stream",
     "text": [
      "0 154 173\n",
      "1 241 241\n",
      "2 241 241\n"
     ]
    }
   ],
   "source": [
    "devout_shapes = get_shapes(devout_images) \n",
    "for i in range(3):\n",
    "    print(i, np.min(devout_shapes[:,i]), np.max(devout_shapes[:,i]))"
   ]
  },
  {
   "cell_type": "code",
   "execution_count": 27,
   "id": "a883e77e-7391-42c8-a855-4f88a4307482",
   "metadata": {},
   "outputs": [],
   "source": [
    "def shapes_scatterplot(x, y, title, label):\n",
    "    sns.scatterplot(x=x, y=y, s=600, alpha=0.4, label=label, linewidth=0)\n",
    "    plt.title(title)\n",
    "    plt.xlabel('width')\n",
    "    plt.ylabel('height')\n",
    "    plt.xlim(145, 275)\n",
    "    plt.ylim(145, 275)\n",
    "    \n",
    "def plot_shapes(shapes, label):\n",
    "    plt.subplot(131)\n",
    "    shapes_scatterplot(shapes[:,1], shapes[:,2], 'Sagittal', label)\n",
    "    plt.subplot(132)\n",
    "    shapes_scatterplot(shapes[:,0], shapes[:,2], 'Coronal', label)\n",
    "    plt.subplot(133)\n",
    "    shapes_scatterplot(shapes[:,0], shapes[:,1], 'Axial', label)"
   ]
  },
  {
   "cell_type": "code",
   "execution_count": null,
   "id": "c016a4a0-2107-4f15-af5c-81d83298288a",
   "metadata": {},
   "outputs": [],
   "source": [
    "plt.figure(figsize=(30,10))\n",
    "plot_shapes(train_shapes, 'train')"
   ]
  },
  {
   "cell_type": "code",
   "execution_count": null,
   "id": "480ab3c3-cf21-4245-ab2b-13c7c6eb2362",
   "metadata": {},
   "outputs": [],
   "source": [
    "plt.figure(figsize=(30,10))\n",
    "plot_shapes(devin_shapes, 'dev_in')"
   ]
  },
  {
   "cell_type": "code",
   "execution_count": null,
   "id": "d0bbea9b-6161-4288-9b43-acabfddee1fa",
   "metadata": {},
   "outputs": [],
   "source": [
    "plt.figure(figsize=(30,10))\n",
    "plot_shapes(devin_shapes, 'eval_in')"
   ]
  },
  {
   "cell_type": "code",
   "execution_count": null,
   "id": "75dc0a9f-9d0e-4581-ba1b-bd471d478f8e",
   "metadata": {},
   "outputs": [],
   "source": [
    "plt.figure(figsize=(30,10))\n",
    "plot_shapes(devin_shapes, 'dev_out')"
   ]
  },
  {
   "cell_type": "markdown",
   "id": "f8b53a59-8e55-4887-bf04-8d2913ec0748",
   "metadata": {},
   "source": [
    "### Header"
   ]
  },
  {
   "cell_type": "code",
   "execution_count": null,
   "id": "cdb67017-777c-4ad8-a387-79efacdff52f",
   "metadata": {
    "tags": []
   },
   "outputs": [],
   "source": [
    "print(img_nii.header)"
   ]
  },
  {
   "cell_type": "code",
   "execution_count": 180,
   "id": "43bba17e-365f-49d0-879a-7be5920ea5bc",
   "metadata": {},
   "outputs": [],
   "source": [
    "def check_pixdim(paths):\n",
    "    pixdim = []\n",
    "    for img_path in paths:\n",
    "        img_header = nib.load(img_path).header\n",
    "        pixdim.append(img_header['pixdim'])\n",
    "    print(np.unique(pixdim, axis=0))"
   ]
  },
  {
   "cell_type": "code",
   "execution_count": 332,
   "id": "17347106-4364-4308-88a1-9eb277177d9e",
   "metadata": {},
   "outputs": [
    {
     "name": "stdout",
     "output_type": "stream",
     "text": [
      "[[-1.  1.  1.  1.  1.  1.  1.  1.]\n",
      " [ 1.  1.  1.  1.  1.  1.  1.  1.]]\n",
      "\n",
      "[[-1.  1.  1.  1.  1.  1.  1.  1.]\n",
      " [ 1.  1.  1.  1.  1.  1.  1.  1.]]\n",
      "\n",
      "[[-1.  1.  1.  1.  1.  1.  1.  1.]\n",
      " [ 1.  1.  1.  1.  1.  1.  1.  1.]]\n",
      "\n",
      "[[1. 1. 1. 1. 1. 1. 1. 1.]]\n",
      "\n"
     ]
    }
   ],
   "source": [
    "for paths in [train_images, devin_images, evalin_images, devout_images]:\n",
    "    check_pixdim(paths)\n",
    "    print()"
   ]
  },
  {
   "cell_type": "code",
   "execution_count": 183,
   "id": "8588c0f7-4940-4177-b243-654cbee0330d",
   "metadata": {},
   "outputs": [],
   "source": [
    "def check_datatype(paths):\n",
    "    datatype = []\n",
    "    for img_path in paths:\n",
    "        img_header = nib.load(img_path).header\n",
    "        datatype.append(str(img_header.get_data_dtype()))\n",
    "    print(set(datatype))"
   ]
  },
  {
   "cell_type": "code",
   "execution_count": 333,
   "id": "f94329c6-44a9-4b14-ae04-fa5a2743ddef",
   "metadata": {},
   "outputs": [
    {
     "name": "stdout",
     "output_type": "stream",
     "text": [
      "{'float32'}\n",
      "\n",
      "{'float32'}\n",
      "\n",
      "{'float32'}\n",
      "\n",
      "{'float32'}\n",
      "\n"
     ]
    }
   ],
   "source": [
    "for paths in [train_images, devin_images, evalin_images, devout_images]:\n",
    "    check_datatype(paths)\n",
    "    print()"
   ]
  },
  {
   "cell_type": "code",
   "execution_count": 184,
   "id": "695a2f1f-b67a-40b6-b767-46f0d20cbbb3",
   "metadata": {},
   "outputs": [],
   "source": [
    "def check_bitpix(paths):\n",
    "    bitpix = []\n",
    "    for img_path in paths:\n",
    "        img_header = nib.load(img_path).header\n",
    "        bitpix.append(img_header['bitpix'].item())\n",
    "    print(set(bitpix))"
   ]
  },
  {
   "cell_type": "code",
   "execution_count": 334,
   "id": "91a13339-7ea2-4057-b847-11b7dc679184",
   "metadata": {},
   "outputs": [
    {
     "name": "stdout",
     "output_type": "stream",
     "text": [
      "{32}\n",
      "\n",
      "{32}\n",
      "\n",
      "{32}\n",
      "\n",
      "{32}\n",
      "\n"
     ]
    }
   ],
   "source": [
    "for paths in [train_images, devin_images, evalin_images, devout_images]:\n",
    "    check_bitpix(paths)\n",
    "    print()"
   ]
  },
  {
   "cell_type": "code",
   "execution_count": 151,
   "id": "7b3d6089-9f91-487c-b219-5967b50b3654",
   "metadata": {},
   "outputs": [],
   "source": [
    "def check_sform_code(paths):\n",
    "    code = []\n",
    "    for img_path in paths:\n",
    "        img_header = nib.load(img_path).header\n",
    "        code.append(img_header['sform_code'].item())\n",
    "    print(set(code))"
   ]
  },
  {
   "cell_type": "code",
   "execution_count": 152,
   "id": "bde4173e-1b93-4fdf-b1a9-bc55e027263d",
   "metadata": {},
   "outputs": [
    {
     "name": "stdout",
     "output_type": "stream",
     "text": [
      "{2}\n",
      "\n",
      "{2}\n",
      "\n",
      "{2}\n",
      "\n",
      "{2}\n",
      "\n"
     ]
    }
   ],
   "source": [
    "for paths in [train_images, devin_images, evalin_images, devout_images]:\n",
    "    check_sform_code(paths)\n",
    "    print()"
   ]
  },
  {
   "cell_type": "markdown",
   "id": "7b30da3d-468b-4cc3-a18d-b717428ba9a8",
   "metadata": {},
   "source": [
    "### Intensity\n",
    "\n",
    "Investigate intensity ranges and intensity histograms for each study."
   ]
  },
  {
   "cell_type": "code",
   "execution_count": 28,
   "id": "2387fcf5-3b72-4171-9846-caf35c00377f",
   "metadata": {},
   "outputs": [],
   "source": [
    "def min_max_intensity(paths):\n",
    "    for i, img_path in enumerate(paths):\n",
    "        img = nib.load(img_path).get_fdata()\n",
    "        print(img.min(), img.max())"
   ]
  },
  {
   "cell_type": "code",
   "execution_count": 51,
   "id": "9f4ded2e-7983-4e69-977d-b2b1a0fd2411",
   "metadata": {
    "tags": []
   },
   "outputs": [],
   "source": [
    "# for paths in [train_images, devin_images, evalin_images, devout_images]:\n",
    "#     min_max_intensity(paths)\n",
    "#     print()"
   ]
  },
  {
   "cell_type": "code",
   "execution_count": 11,
   "id": "6a0f9df4-ea83-40a2-9932-75f280af59a7",
   "metadata": {},
   "outputs": [],
   "source": [
    "def get_max_intensities(paths):\n",
    "    intensities = []\n",
    "    for i, img_path in enumerate(paths):\n",
    "        img = nib.load(img_path).get_fdata()\n",
    "        intensities += [img.max()]\n",
    "    return intensities"
   ]
  },
  {
   "cell_type": "code",
   "execution_count": 16,
   "id": "e28c16fb-2486-4e6b-aa1a-a7435627713a",
   "metadata": {},
   "outputs": [],
   "source": [
    "max_intensities = []\n",
    "for paths in [train_images, devin_images, evalin_images, devout_images]:\n",
    "    max_intensity = get_max_intensities(paths)\n",
    "    max_intensities.append(max_intensity)"
   ]
  },
  {
   "cell_type": "code",
   "execution_count": 17,
   "id": "31476bf8-0123-41fc-ac80-ae18d9e8c429",
   "metadata": {},
   "outputs": [],
   "source": [
    "x = []\n",
    "for i, set_ in enumerate(['train', 'dev_in', 'eval_in', 'dev_out']):\n",
    "    x.append([i]*len(max_intensities[i]))\n",
    "x = [item for sublist in x for item in sublist]\n",
    "    \n",
    "max_intensities = [item for sublist in max_intensities for item in sublist]"
   ]
  },
  {
   "cell_type": "code",
   "execution_count": 18,
   "id": "038cc1df-1a31-4b7f-94db-76c29299557f",
   "metadata": {},
   "outputs": [],
   "source": [
    "df = pd.DataFrame({'x': x, 'y': max_intensities})"
   ]
  },
  {
   "cell_type": "code",
   "execution_count": null,
   "id": "c1c18c8d-23a9-4e6c-922b-f70efe631183",
   "metadata": {},
   "outputs": [],
   "source": [
    "plt.figure(figsize=(20,9), tight_layout=True)\n",
    "plt.title('Distribution of max intensity value')\n",
    "for i, set_ in enumerate(['train', 'dev_in', 'eval_in', 'dev_out']):\n",
    "    sns.boxplot(data=df, x='x', y='y')\n",
    "plt.xticks([0, 1, 2, 3],['train', 'dev_in', 'eval_in', 'dev_out'])\n",
    "plt.ylabel('Max intensity value')\n",
    "plt.xlabel('');"
   ]
  },
  {
   "cell_type": "markdown",
   "id": "2c5908d4-3e31-418b-bba6-b12c781a9230",
   "metadata": {},
   "source": [
    "#### Intensity histograms for each study\n",
    "\n",
    "While calculating the image statistics, zero values - black background voxels - were excluded. We are interested in foreground analysis since background carries no information here. Including zero values in calculating mean and standard deviation would significantly skew the metrics toward 0."
   ]
  },
  {
   "cell_type": "code",
   "execution_count": 85,
   "id": "04fc1a25-8385-4a64-adcc-5d433a6d846a",
   "metadata": {},
   "outputs": [],
   "source": [
    "def plot_intensity_hist(paths, title):\n",
    "    num_rows = len(paths) // 2 + len(paths) % 2\n",
    "    plt.figure(figsize=(25,4*num_rows), tight_layout=True)\n",
    "    plt.suptitle(title)\n",
    "    \n",
    "    for i, img_path in enumerate(paths):\n",
    "        img = nib.load(img_path).get_fdata()\n",
    "        \n",
    "        mean = np.mean(img, where=np.where(img>0, True, False)) # exclude black background\n",
    "        std = np.std(img, where=np.where(img>0, True, False))\n",
    "        \n",
    "        plt.subplot(num_rows, 2, i+1)\n",
    "        sns.histplot(img.flatten())\n",
    "        plt.yscale('log')\n",
    "        plt.title('Image ' + str(i + 1))\n",
    "        plt.legend([f'mean={int(mean)}, std={int(std)}'], title='Intensity')"
   ]
  },
  {
   "cell_type": "code",
   "execution_count": null,
   "id": "e8a0cd37-11b4-4dbe-8381-a0dc7f294b98",
   "metadata": {
    "tags": []
   },
   "outputs": [],
   "source": [
    "plot_intensity_hist(train_images, 'train')"
   ]
  },
  {
   "cell_type": "code",
   "execution_count": null,
   "id": "2182b96b-74b2-4651-907d-0eda78bf6d8a",
   "metadata": {
    "tags": []
   },
   "outputs": [],
   "source": [
    "plot_intensity_hist(devin_images, 'dev_in')"
   ]
  },
  {
   "cell_type": "code",
   "execution_count": null,
   "id": "5ed3fba5-7d47-4474-aba0-853da75775f3",
   "metadata": {
    "tags": []
   },
   "outputs": [],
   "source": [
    "plot_intensity_hist(evalin_images, 'eval_in')"
   ]
  },
  {
   "cell_type": "code",
   "execution_count": null,
   "id": "116866bf-6141-42c0-9257-0f4f219f111f",
   "metadata": {
    "tags": []
   },
   "outputs": [],
   "source": [
    "plot_intensity_hist(devout_images, 'dev_out')"
   ]
  },
  {
   "cell_type": "markdown",
   "id": "d8c1558a-3492-44e0-a4ed-55ce15a97ee4",
   "metadata": {},
   "source": [
    "### Mean 3D image\n",
    "\n",
    "Judging from pixdim and mean images, we know that images aren't always oriented the same way."
   ]
  },
  {
   "cell_type": "code",
   "execution_count": 263,
   "id": "bd25ddba-01a3-4f48-b5c9-13ed59c41d14",
   "metadata": {},
   "outputs": [],
   "source": [
    "from monai.transforms import Compose, LoadImage, AddChannel, CropForeground, ResizeWithPadOrCrop, Orientation\n",
    "import torch"
   ]
  },
  {
   "cell_type": "code",
   "execution_count": 420,
   "id": "d853e937-8366-4ef1-af56-93206cda5cf7",
   "metadata": {},
   "outputs": [],
   "source": [
    "def plot_mean_image(paths, subset, orientation=False):\n",
    "    transforms_list = [LoadImage(image_only=True), AddChannel()]\n",
    "    if orientation:\n",
    "        transforms_list.append(Orientation(axcodes='RAS'))\n",
    "    transforms_list.append(CropForeground())\n",
    "    transforms = Compose(transforms_list)\n",
    "    \n",
    "    shapes = []\n",
    "    for img_path in paths:\n",
    "        output = transforms(img_path)\n",
    "        shapes.append(output.shape)\n",
    "\n",
    "    shapes = np.asarray(shapes)\n",
    "    mean_img_shape = (np.max(shapes[:,1]), np.max(shapes[:,2]), np.max(shapes[:,3]))\n",
    "    print('Mean image shape:', mean_img_shape)\n",
    "    \n",
    "    \n",
    "    transforms_list.append(ResizeWithPadOrCrop(spatial_size=mean_img_shape))\n",
    "    transforms = Compose(transforms_list)\n",
    "    \n",
    "    images = []\n",
    "    for img_path in paths:\n",
    "        output = transforms(img_path)\n",
    "        images.append(output)\n",
    "        \n",
    "    images = torch.stack(images)\n",
    "    mean_img = torch.mean(images, dim=0)\n",
    "    \n",
    "    for ax, (axis, height) in enumerate(zip(['Sagittal', 'Coronal', 'Axial'], [5, 4, 3])):\n",
    "        mean_img_ = torch.movedim(mean_img[0], ax, 0)\n",
    "        num_slices = mean_img_.shape[0]\n",
    "        num_rows = num_slices//7 + num_slices%7\n",
    "        \n",
    "        plt.figure(figsize=(28, num_rows*height), layout=\"constrained\")\n",
    "        plt.suptitle('Mean image - ' + subset + ' - ' + axis)\n",
    "        for i, sl in enumerate(mean_img_):\n",
    "            plt.subplot(num_rows, 7, i+1)\n",
    "            plt.imshow(sl, cmap='gray')\n",
    "            plt.axis('off')"
   ]
  },
  {
   "cell_type": "code",
   "execution_count": null,
   "id": "91971c4a-b45f-4aed-b117-49ba15c3642e",
   "metadata": {
    "tags": []
   },
   "outputs": [],
   "source": [
    "plot_mean_image(train_images, 'train')"
   ]
  },
  {
   "cell_type": "code",
   "execution_count": null,
   "id": "180fbe56-ff79-4344-87f5-42212e038aad",
   "metadata": {
    "tags": []
   },
   "outputs": [],
   "source": [
    "plot_mean_image(devin_images, 'dev_in')"
   ]
  },
  {
   "cell_type": "code",
   "execution_count": null,
   "id": "7096d21e-5e5b-4810-a12f-8fdba2177784",
   "metadata": {
    "tags": []
   },
   "outputs": [],
   "source": [
    "plot_mean_image(evalin_images, 'eval_in')"
   ]
  },
  {
   "cell_type": "code",
   "execution_count": null,
   "id": "35a89b74-a9f4-474c-a630-a016b16db22c",
   "metadata": {
    "tags": []
   },
   "outputs": [],
   "source": [
    "plot_mean_image(devout_images, 'dev_out')"
   ]
  },
  {
   "cell_type": "markdown",
   "id": "91b3ed67-09d4-490c-8eb5-b5c5e7651ba1",
   "metadata": {},
   "source": [
    "Visualize mean images after changing images' orientation to be the same:"
   ]
  },
  {
   "cell_type": "code",
   "execution_count": null,
   "id": "abe46481-b054-44af-8cb1-4f71b7866eee",
   "metadata": {
    "tags": []
   },
   "outputs": [],
   "source": [
    "plot_mean_image(train_images, 'train', orientation=True)"
   ]
  },
  {
   "cell_type": "code",
   "execution_count": null,
   "id": "5507dd03-4d73-4610-b820-5342681255ff",
   "metadata": {
    "tags": []
   },
   "outputs": [],
   "source": [
    "plot_mean_image(devin_images, 'dev_in', orientation=True)"
   ]
  },
  {
   "cell_type": "code",
   "execution_count": null,
   "id": "29282d4a-bdec-4740-b236-3d1192481c33",
   "metadata": {
    "tags": []
   },
   "outputs": [],
   "source": [
    "plot_mean_image(evalin_images, 'eval_in', orientation=True)"
   ]
  },
  {
   "cell_type": "code",
   "execution_count": null,
   "id": "0cb813b3-90d1-4901-abea-44c04f88d34f",
   "metadata": {
    "tags": []
   },
   "outputs": [],
   "source": [
    "plot_mean_image(devout_images, 'dev_out', orientation=True)"
   ]
  },
  {
   "cell_type": "markdown",
   "id": "135aae43-91b3-4f1f-aa34-1027b7e87a05",
   "metadata": {},
   "source": [
    "## Labels"
   ]
  },
  {
   "cell_type": "code",
   "execution_count": 247,
   "id": "ce454b4d-96f6-4ff0-9bf1-66350ec5f35c",
   "metadata": {},
   "outputs": [],
   "source": [
    "def check_unique_values(paths):\n",
    "    lbl_values = []\n",
    "    for i, lbl_path in enumerate(paths):\n",
    "        lbl = nib.load(lbl_path).get_fdata()\n",
    "        lbl_values.append(np.unique(lbl))\n",
    "    print(np.unique(lbl_values))"
   ]
  },
  {
   "cell_type": "code",
   "execution_count": 336,
   "id": "9f1ac7b0-bd74-40c8-8514-9560ff5d66dc",
   "metadata": {},
   "outputs": [
    {
     "name": "stdout",
     "output_type": "stream",
     "text": [
      "[0. 1.]\n",
      "\n",
      "[0. 1.]\n",
      "\n",
      "[0. 1.]\n",
      "\n",
      "[0. 1.]\n",
      "\n"
     ]
    }
   ],
   "source": [
    "for paths in [train_labels, devin_labels, evalin_labels, devout_labels]:\n",
    "    check_unique_values(paths)\n",
    "    print()"
   ]
  },
  {
   "cell_type": "code",
   "execution_count": 24,
   "id": "91c7d788-c37d-448d-a0b8-bb9aa34a7a70",
   "metadata": {},
   "outputs": [],
   "source": [
    "def check_redundant_values(paths, mask_paths):\n",
    "    for i, lbl_path in enumerate(paths):\n",
    "        lbl = nib.load(lbl_path).get_fdata()\n",
    "        mask = nib.load(mask_paths[i]).get_fdata()\n",
    "        \n",
    "        redundant = ((lbl == 1) & (mask == 0)).sum()\n",
    "        if redundant:\n",
    "            print(lbl_path, redundant)"
   ]
  },
  {
   "cell_type": "code",
   "execution_count": 25,
   "id": "8ef27e21-13be-46e8-b1c4-c0cdfa1e05e2",
   "metadata": {},
   "outputs": [
    {
     "name": "stdout",
     "output_type": "stream",
     "text": [
      "../data/shifts_ms_pt1/msseg/train/gt/20_gt_isovox.nii.gz 2\n",
      "../data/shifts_ms_pt2/ljubljana/dev_out/gt/1_gt_isovox.nii.gz 34\n",
      "../data/shifts_ms_pt2/ljubljana/dev_out/gt/10_gt_isovox.nii.gz 4\n",
      "../data/shifts_ms_pt2/ljubljana/dev_out/gt/14_gt_isovox.nii.gz 4\n",
      "../data/shifts_ms_pt2/ljubljana/dev_out/gt/15_gt_isovox.nii.gz 2\n",
      "../data/shifts_ms_pt2/ljubljana/dev_out/gt/20_gt_isovox.nii.gz 65\n",
      "../data/shifts_ms_pt2/ljubljana/dev_out/gt/24_gt_isovox.nii.gz 3\n"
     ]
    }
   ],
   "source": [
    "for paths, mask_paths in zip([train_labels, devin_labels, evalin_labels, devout_labels],\n",
    "                             [train_masks, devin_masks, evalin_masks, devout_masks]):\n",
    "    check_redundant_values(paths, mask_paths)"
   ]
  },
  {
   "cell_type": "markdown",
   "id": "924491b3-6b78-40bf-82e6-580f86455595",
   "metadata": {},
   "source": [
    "It turns out that some ground truth voxels are outside brain masks."
   ]
  },
  {
   "cell_type": "markdown",
   "id": "0f41bc1c-e0d3-4b89-ae41-2b65631a6d3d",
   "metadata": {},
   "source": [
    "### Header"
   ]
  },
  {
   "cell_type": "code",
   "execution_count": 249,
   "id": "cff64854-63a6-4f4f-aa01-fd8e834006d3",
   "metadata": {},
   "outputs": [],
   "source": [
    "lbl_nii = nib.load(train_labels[0])\n",
    "lbl = lbl_nii.get_fdata()"
   ]
  },
  {
   "cell_type": "code",
   "execution_count": null,
   "id": "905b3bee-d275-4208-8676-c0826b25bbf9",
   "metadata": {
    "tags": []
   },
   "outputs": [],
   "source": [
    "print(lbl_nii.header)"
   ]
  },
  {
   "cell_type": "code",
   "execution_count": 337,
   "id": "29ba574b-c7f1-4240-91a1-a17aadf577d5",
   "metadata": {},
   "outputs": [
    {
     "name": "stdout",
     "output_type": "stream",
     "text": [
      "{'float32'}\n",
      "\n",
      "{'float32'}\n",
      "\n",
      "{'float32'}\n",
      "\n",
      "{'float32'}\n",
      "\n"
     ]
    }
   ],
   "source": [
    "for paths in [train_labels, devin_labels, evalin_labels, devout_labels]:\n",
    "    check_datatype(paths)\n",
    "    print()"
   ]
  },
  {
   "cell_type": "code",
   "execution_count": 338,
   "id": "6c7bc070-561b-4196-b4c1-6c001e2456e9",
   "metadata": {},
   "outputs": [
    {
     "name": "stdout",
     "output_type": "stream",
     "text": [
      "{32}\n",
      "\n",
      "{32}\n",
      "\n",
      "{32}\n",
      "\n",
      "{32}\n",
      "\n"
     ]
    }
   ],
   "source": [
    "for paths in [train_labels, devin_labels, evalin_labels, devout_labels]:\n",
    "    check_bitpix(paths)\n",
    "    print()"
   ]
  },
  {
   "cell_type": "code",
   "execution_count": 339,
   "id": "44c88d0a-c1e4-4296-927a-3bae8b06b505",
   "metadata": {},
   "outputs": [
    {
     "name": "stdout",
     "output_type": "stream",
     "text": [
      "[[-1.  1.  1.  1.  1.  1.  1.  1.]\n",
      " [ 1.  1.  1.  1.  1.  1.  1.  1.]]\n",
      "\n",
      "[[-1.  1.  1.  1.  1.  1.  1.  1.]\n",
      " [ 1.  1.  1.  1.  1.  1.  1.  1.]]\n",
      "\n",
      "[[-1.  1.  1.  1.  1.  1.  1.  1.]\n",
      " [ 1.  1.  1.  1.  1.  1.  1.  1.]]\n",
      "\n",
      "[[1. 1. 1. 1. 1. 1. 1. 1.]]\n",
      "\n"
     ]
    }
   ],
   "source": [
    "for paths in [train_labels, devin_labels, evalin_labels, devout_labels]:\n",
    "    check_pixdim(paths)\n",
    "    print()"
   ]
  },
  {
   "cell_type": "markdown",
   "id": "55901b9b-289e-4101-8d36-e8c9d1b6b683",
   "metadata": {},
   "source": [
    "### Lesion volume"
   ]
  },
  {
   "cell_type": "code",
   "execution_count": 85,
   "id": "07ad2ba4-cb5c-485a-8734-a57101948021",
   "metadata": {},
   "outputs": [],
   "source": [
    "def plot_lesion_load(labels_paths, masks_paths, title):\n",
    "    lesion_load, lesion_load2 = [], []\n",
    "    for i, lbl_path in enumerate(labels_paths):\n",
    "        lbl = nib.load(lbl_path).get_fdata()\n",
    "        lesion_load.append(np.sum(lbl)/np.size(lbl)*100)\n",
    "\n",
    "        fg_mask = nib.load(masks_paths[i]).get_fdata()\n",
    "        lesion_load2.append(np.sum(lbl)/np.sum(fg_mask)*100)\n",
    "\n",
    "    plt.figure(figsize=(25,9), tight_layout=True)\n",
    "    plt.suptitle(title)\n",
    "    plt.subplot(121)\n",
    "    sns.barplot(x=list(range(1,len(lesion_load)+1)), y=lesion_load)\n",
    "    plt.ylabel('Lesion load [%]')\n",
    "    plt.xlabel('Image')\n",
    "    plt.title('Lesion volume as percent of the whole image')\n",
    "    plt.ylim(0, 1)\n",
    "    \n",
    "    plt.subplot(122)\n",
    "    sns.barplot(x=list(range(1,len(lesion_load2)+1)), y=lesion_load2)\n",
    "    plt.ylabel('Lesion load [%]')\n",
    "    plt.title('Lesion volume as percent of the brain area')\n",
    "    plt.xlabel('Image')\n",
    "    plt.ylim(0, 5.5);"
   ]
  },
  {
   "cell_type": "markdown",
   "id": "48730b42-d6f2-4d89-a273-c5fb6b88bcad",
   "metadata": {},
   "source": [
    "Lesion occupies very small volume in each study - up to around 5% of brain area and less than 1% of the whole nii image."
   ]
  },
  {
   "cell_type": "code",
   "execution_count": null,
   "id": "0825850b-9841-4d87-8c7d-777ee2b42669",
   "metadata": {},
   "outputs": [],
   "source": [
    "plot_lesion_load(train_labels, train_masks, 'train')"
   ]
  },
  {
   "cell_type": "code",
   "execution_count": null,
   "id": "3612d155-ce77-4586-9924-53abdab73674",
   "metadata": {},
   "outputs": [],
   "source": [
    "plot_lesion_load(devin_labels, devin_masks, 'dev_in')"
   ]
  },
  {
   "cell_type": "code",
   "execution_count": null,
   "id": "6c335bac-4615-48a2-91da-7921afb7e0da",
   "metadata": {},
   "outputs": [],
   "source": [
    "plot_lesion_load(evalin_labels, evalin_masks, 'eval_in')"
   ]
  },
  {
   "cell_type": "code",
   "execution_count": null,
   "id": "72bea631-fe04-40fd-adec-6751fe058171",
   "metadata": {},
   "outputs": [],
   "source": [
    "plot_lesion_load(devout_labels, devout_masks, 'dev_out')"
   ]
  },
  {
   "cell_type": "code",
   "execution_count": 423,
   "id": "e73e5064-3864-4805-a265-d205b804de2e",
   "metadata": {},
   "outputs": [],
   "source": [
    "def plot_lesions_volume(labels_paths, subset, chart_height):\n",
    "    plt.figure(figsize=(25,chart_height))\n",
    "    plt.title('Lesion volumes on each image - ' + subset)\n",
    "    \n",
    "    for i, lbl_path in enumerate(labels_paths):\n",
    "        lbl = nib.load(lbl_path).get_fdata()\n",
    "        \n",
    "        labeled_seg, num_labels = ndimage.label(lbl)\n",
    "        label_list = np.unique(labeled_seg)\n",
    "        num_elements_by_lesion = ndimage.labeled_comprehension(lbl, labeled_seg, label_list, np.sum, float, 0)\n",
    "        sns.scatterplot(y=[i+1]*len(num_elements_by_lesion), x=num_elements_by_lesion, s=100, alpha=0.7)\n",
    "    \n",
    "    plt.xlabel('Lesion volume [voxels]')\n",
    "    plt.ylabel('Image')\n",
    "    plt.legend('', frameon=False)\n",
    "    plt.ylim(i+1.5, 0.5)\n",
    "    plt.yticks(list(range(1,i+2)), list(range(1,i+2)))\n",
    "    plt.xscale('log')"
   ]
  },
  {
   "cell_type": "code",
   "execution_count": 153,
   "id": "d0d09083-f132-4851-b958-d0611348dfd3",
   "metadata": {},
   "outputs": [],
   "source": [
    "def plot_lesions_volume(labels_paths, subset):\n",
    "    plt.figure(figsize=(25,9))\n",
    "    plt.title('Distribution of lesion volume on each image - ' + subset)\n",
    "    \n",
    "    volumes = []\n",
    "    for i, lbl_path in enumerate(labels_paths):\n",
    "        lbl = nib.load(lbl_path).get_fdata()\n",
    "        \n",
    "        labeled_seg, num_labels = ndimage.label(lbl)\n",
    "        label_list = np.unique(labeled_seg)\n",
    "        num_elements_by_lesion = ndimage.labeled_comprehension(lbl, labeled_seg, label_list, np.sum, float, 0)\n",
    "        volumes.append(num_elements_by_lesion)\n",
    "\n",
    "    sns.boxplot(data=volumes)\n",
    "    plt.ylabel('Lesion volume [voxels]')\n",
    "    plt.xlabel('Image')\n",
    "    plt.yscale('log')\n",
    "    plt.ylim(1, 10e4)\n",
    "    plt.xticks(range(len(volumes)), list(range(1,len(volumes)+1)))"
   ]
  },
  {
   "cell_type": "code",
   "execution_count": null,
   "id": "389594eb-cbbf-4ef7-b3e6-a4dc14edad96",
   "metadata": {},
   "outputs": [],
   "source": [
    "plot_lesions_volume(train_labels, 'train')"
   ]
  },
  {
   "cell_type": "code",
   "execution_count": null,
   "id": "c391487f-e02e-4952-9606-b9c727d07b53",
   "metadata": {},
   "outputs": [],
   "source": [
    "plot_lesions_volume(devin_labels, 'dev_in')"
   ]
  },
  {
   "cell_type": "code",
   "execution_count": null,
   "id": "d05e4efc-65ca-4595-a317-c17f65b336c4",
   "metadata": {},
   "outputs": [],
   "source": [
    "plot_lesions_volume(evalin_labels, 'eval_in')"
   ]
  },
  {
   "cell_type": "code",
   "execution_count": null,
   "id": "71a69d88-64ee-4d3e-9d96-6265c008f77b",
   "metadata": {},
   "outputs": [],
   "source": [
    "plot_lesions_volume(devout_labels, 'dev_out')"
   ]
  },
  {
   "cell_type": "code",
   "execution_count": 8,
   "id": "08683fc4-7b89-46cf-896d-9bec3c1bf156",
   "metadata": {},
   "outputs": [],
   "source": [
    "def lesion_volume(labels_paths):\n",
    "    lesion_volume = []\n",
    "    for i, lbl_path in enumerate(labels_paths):\n",
    "        lbl = nib.load(lbl_path).get_fdata()\n",
    "        lesion_volume.append(np.sum(lbl))\n",
    "        \n",
    "    return lesion_volume"
   ]
  },
  {
   "cell_type": "code",
   "execution_count": 9,
   "id": "a8a9cc11-3298-4c09-acce-5cf0b35a6e25",
   "metadata": {},
   "outputs": [],
   "source": [
    "train_lesion_vol = lesion_volume(train_labels)\n",
    "devin_lesion_vol = lesion_volume(devin_labels)\n",
    "evalin_lesion_vol = lesion_volume(evalin_labels)\n",
    "devout_lesion_vol = lesion_volume(devout_labels)"
   ]
  },
  {
   "cell_type": "code",
   "execution_count": null,
   "id": "cf7dfc3e-e786-4ee8-a187-5f136c4f6cdc",
   "metadata": {},
   "outputs": [],
   "source": [
    "plt.figure(figsize=(20,9))\n",
    "plt.title('Distribution of lesion volume per image')\n",
    "sns.boxplot(data=[train_lesion_vol, devin_lesion_vol, evalin_lesion_vol, devout_lesion_vol])\n",
    "plt.xticks(range(4), ['train', 'dev_in', 'eval_in', 'dev_out'])\n",
    "plt.ylabel('Lesion volume [voxels]');"
   ]
  },
  {
   "cell_type": "code",
   "execution_count": null,
   "id": "f02e0172-b7c7-44c9-8594-618a63386543",
   "metadata": {},
   "outputs": [],
   "source": [
    "plt.figure(figsize=(15,7))\n",
    "sns.histplot(data=[train_lesion_vol, devin_lesion_vol, evalin_lesion_vol, devout_lesion_vol], bins=150)\n",
    "plt.xlabel('Lesion volume')\n",
    "plt.ylabel('Lesion count')\n",
    "plt.legend(['train', 'dev_in', 'eval_in', 'dev_out']);"
   ]
  },
  {
   "cell_type": "markdown",
   "id": "cc53f5c5-9483-43b7-86f0-eaf8d6c34475",
   "metadata": {},
   "source": [
    "### Number of lesions"
   ]
  },
  {
   "cell_type": "code",
   "execution_count": 8,
   "id": "d41b4ddb-54e6-4862-bf92-dc48ae282ad9",
   "metadata": {},
   "outputs": [],
   "source": [
    "from scipy import ndimage"
   ]
  },
  {
   "cell_type": "code",
   "execution_count": 9,
   "id": "f8c6ccfd-a6e4-493e-b69e-9f6d39208a68",
   "metadata": {},
   "outputs": [],
   "source": [
    "def count_number_of_lesions(labels_paths):\n",
    "    lesion_count = []\n",
    "    for i, lbl_path in enumerate(labels_paths):\n",
    "        lbl = nib.load(lbl_path).get_fdata()\n",
    "        \n",
    "        labeled_seg, num_labels = ndimage.label(lbl)\n",
    "        label_list = np.unique(labeled_seg)\n",
    "        lesion_count.append(len(label_list))\n",
    "    \n",
    "    return lesion_count\n",
    "\n",
    "def plot_number_of_lesions(lesion_counts, subset):\n",
    "    plt.figure(figsize=(25,7))\n",
    "    plt.title('Number of lesions per image - ' + subset)\n",
    "    sns.barplot(x=list(range(1, len(lesion_counts)+1)), y=lesion_counts)\n",
    "    plt.xlabel('Image')\n",
    "    plt.ylabel('Number of lesions')"
   ]
  },
  {
   "cell_type": "code",
   "execution_count": null,
   "id": "b75b7c6c-7bd2-49e2-b1ff-866e0ee713f2",
   "metadata": {},
   "outputs": [],
   "source": [
    "train_lesion_count = count_number_of_lesions(train_labels)\n",
    "plot_number_of_lesions(train_lesion_count, 'train')"
   ]
  },
  {
   "cell_type": "code",
   "execution_count": null,
   "id": "e3c3ec25-f634-4f2c-840d-bb048cef9cf3",
   "metadata": {},
   "outputs": [],
   "source": [
    "devin_lesion_count = count_number_of_lesions(devin_labels)\n",
    "plot_number_of_lesions(devin_lesion_count, 'dev_in')"
   ]
  },
  {
   "cell_type": "code",
   "execution_count": null,
   "id": "45e01274-32ca-4a98-ac8b-f2a15bc9e971",
   "metadata": {},
   "outputs": [],
   "source": [
    "evalin_lesion_count = count_number_of_lesions(evalin_labels)\n",
    "plot_number_of_lesions(evalin_lesion_count, 'eval_in')"
   ]
  },
  {
   "cell_type": "code",
   "execution_count": null,
   "id": "c25cfd2c-7740-46b9-9b94-bbb287db282f",
   "metadata": {},
   "outputs": [],
   "source": [
    "devout_lesion_count = count_number_of_lesions(devout_labels)\n",
    "plot_number_of_lesions(devout_lesion_count, 'dev_out')"
   ]
  },
  {
   "cell_type": "code",
   "execution_count": null,
   "id": "a153aa32-8204-4464-8abc-2801c5b17bee",
   "metadata": {},
   "outputs": [],
   "source": [
    "plt.figure(figsize=(20,9))\n",
    "plt.title('Distribution of lesion count per image')\n",
    "sns.boxplot(data=[train_lesion_count, devin_lesion_count, evalin_lesion_count, devout_lesion_count])\n",
    "plt.xticks(range(4), ['train', 'dev_in', 'eval_in', 'dev_out']);"
   ]
  },
  {
   "cell_type": "markdown",
   "id": "ae025741-4f5d-47af-9d04-21b1b12f2cbb",
   "metadata": {},
   "source": [
    "### Heatmaps"
   ]
  },
  {
   "cell_type": "code",
   "execution_count": 229,
   "id": "f69dc096-62e6-4cbb-a396-7614bc78ec3c",
   "metadata": {},
   "outputs": [],
   "source": [
    "from monai.transforms import Compose, LoadImaged, AddChanneld, CropForegroundd, ResizeWithPadOrCropd, Orientationd"
   ]
  },
  {
   "cell_type": "code",
   "execution_count": 259,
   "id": "3e2f3b4b-5a5c-49f0-823c-e0a36406e682",
   "metadata": {},
   "outputs": [],
   "source": [
    "def plot_label_heatmap(img_paths, lbl_paths, subset):\n",
    "    transforms_list = [LoadImaged(keys=[\"image\", \"label\"]), AddChanneld(keys=[\"image\", \"label\"]), CropForegroundd(keys=[\"image\", \"label\"], source_key='image')]\n",
    "    transforms = Compose(transforms_list)\n",
    "    \n",
    "    shapes = []\n",
    "    for img_path, lbl_path in zip(img_paths, lbl_paths):\n",
    "        output = transforms({'image': img_path, 'label': lbl_path})\n",
    "        shapes.append(output['image'].shape)\n",
    "\n",
    "    shapes = np.asarray(shapes)\n",
    "    mean_img_shape = (np.max(shapes[:,1]), np.max(shapes[:,2]), np.max(shapes[:,3]))\n",
    "    \n",
    "    transforms_list.append(ResizeWithPadOrCropd(keys=[\"image\", \"label\"], spatial_size=mean_img_shape))\n",
    "    transforms_list.append(Orientationd(keys=[\"image\", \"label\"], axcodes='RAS'))\n",
    "    transforms = Compose(transforms_list)\n",
    "    \n",
    "    labels = []\n",
    "    for img_path, lbl_path in zip(img_paths, lbl_paths):\n",
    "        output = transforms({'image': img_path, 'label': lbl_path})\n",
    "        labels.append(output['label'])\n",
    "                \n",
    "    labels = torch.stack(labels)\n",
    "    sum_labels = torch.sum(labels, dim=(0,1))\n",
    "\n",
    "    plt.figure(figsize=(30,12), layout=\"constrained\")\n",
    "    plt.suptitle('Labels heatmap - ' + subset)\n",
    "    for ax, (axis, height) in enumerate(zip(['Sagittal', 'Coronal', 'Axial'], [5, 4, 3])):\n",
    "\n",
    "        labels_ = torch.movedim(sum_labels, ax, 0)\n",
    "\n",
    "        plt.subplot(1,3,ax+1)\n",
    "        plt.imshow(torch.sum(labels_, dim=0), cmap='turbo')\n",
    "        plt.axis('off')\n",
    "        plt.title(axis)"
   ]
  },
  {
   "cell_type": "code",
   "execution_count": null,
   "id": "a5482d35-e239-48f7-a62b-3fcd48d1f58f",
   "metadata": {},
   "outputs": [],
   "source": [
    "plot_label_heatmap(train_images, train_labels, 'train')"
   ]
  },
  {
   "cell_type": "code",
   "execution_count": null,
   "id": "47ea7b3b-9e4b-413d-9f28-670cb200cb75",
   "metadata": {},
   "outputs": [],
   "source": [
    "plot_label_heatmap(devin_images, devin_labels, 'dev_in')"
   ]
  },
  {
   "cell_type": "code",
   "execution_count": null,
   "id": "4cc54d6b-7c08-4198-85ac-5f5ec8a1fa62",
   "metadata": {},
   "outputs": [],
   "source": [
    "plot_label_heatmap(evalin_images, evalin_labels, 'eval_in')"
   ]
  },
  {
   "cell_type": "code",
   "execution_count": null,
   "id": "3d824911-e22f-4763-ba3f-a81385e9069a",
   "metadata": {},
   "outputs": [],
   "source": [
    "plot_label_heatmap(devout_images, devout_labels, 'dev_out')"
   ]
  },
  {
   "cell_type": "code",
   "execution_count": null,
   "id": "64a6605c-b003-4f7b-8080-03362468dd28",
   "metadata": {},
   "outputs": [],
   "source": []
  }
 ],
 "metadata": {
  "kernelspec": {
   "display_name": "Python 3",
   "language": "python",
   "name": "python3"
  },
  "language_info": {
   "codemirror_mode": {
    "name": "ipython",
    "version": 3
   },
   "file_extension": ".py",
   "mimetype": "text/x-python",
   "name": "python",
   "nbconvert_exporter": "python",
   "pygments_lexer": "ipython3",
   "version": "3.8.12"
  }
 },
 "nbformat": 4,
 "nbformat_minor": 5
}

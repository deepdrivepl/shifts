{
 "cells": [
  {
   "cell_type": "markdown",
   "id": "3cca41b3-e36a-440b-b1f2-86a05ed9784e",
   "metadata": {},
   "source": [
    "# Results visualisations\n",
    "\n",
    "* plot metrics for each image and metrics distribution\n",
    "* plot correlation between true and predicted lesion volume and count\n",
    "* show example predictions and uncertainty maps"
   ]
  },
  {
   "cell_type": "code",
   "execution_count": null,
   "id": "5c2f281d-01c1-4cc8-81e5-361367d6d88d",
   "metadata": {},
   "outputs": [],
   "source": [
    "import os\n",
    "import numpy as np\n",
    "from glob import glob\n",
    "import matplotlib.pyplot as plt\n",
    "from matplotlib import gridspec\n",
    "import seaborn as sns\n",
    "sns.set(style='white', font_scale=1.5)\n",
    "import nibabel as nib\n",
    "import re\n",
    "\n",
    "from monai.transforms import CropForeground, Crop\n",
    "from monai.visualize.utils import blend_images"
   ]
  },
  {
   "cell_type": "code",
   "execution_count": null,
   "id": "22ffcad0-e909-414c-957b-d7eff718d7b4",
   "metadata": {},
   "outputs": [],
   "source": [
    "model_name = 'xunet-loss-ce-lr'"
   ]
  },
  {
   "cell_type": "code",
   "execution_count": null,
   "id": "5935b05f-ebdf-4834-85cb-cac746b8f70a",
   "metadata": {},
   "outputs": [],
   "source": [
    "ndsc, f1, aac = [], [], []\n",
    "for set_ in ['dev_in', 'eval_in', 'dev_out']:\n",
    "    ndsc.append(np.load(os.path.join('..', 'test_predictions', model_name, set_, 'nDSC.npy')))\n",
    "    f1.append(np.load(os.path.join('..', 'test_predictions', model_name, set_, 'f1.npy')))\n",
    "    aac.append(np.load(os.path.join('..', 'test_predictions', model_name, set_, 'nDSC_R-AUC.npy')))"
   ]
  },
  {
   "cell_type": "markdown",
   "id": "2befb822-d73d-4c9d-b9da-c1574f078e30",
   "metadata": {},
   "source": [
    "## Metrics distribution"
   ]
  },
  {
   "cell_type": "code",
   "execution_count": null,
   "id": "56211f3d-b731-43cd-8c48-fb75878fb153",
   "metadata": {},
   "outputs": [],
   "source": [
    "def plot_distribution(data, metric_name, plot_title):\n",
    "    plt.title(plot_title)\n",
    "    sns.boxplot(data=data)\n",
    "    plt.xticks(range(3), ['dev_in', 'eval_in', 'dev_out'])\n",
    "    plt.ylabel(metric_name)\n",
    "    plt.ylim(0,1)\n",
    "    \n",
    "plt.figure(figsize=(30,9))\n",
    "plt.subplot(131)\n",
    "plot_distribution(ndsc, 'nDSC', 'nDSC distribution')\n",
    "\n",
    "plt.subplot(132)\n",
    "plot_distribution(f1, 'lesion f1', 'Lesion f1 distribution')\n",
    "\n",
    "plt.subplot(133)\n",
    "plot_distribution(aac, 'nDSC R-AUC', 'nDSC R-AUC distribution')"
   ]
  },
  {
   "cell_type": "markdown",
   "id": "e10b0cae-50bf-4a32-a0f9-cfae9923baf3",
   "metadata": {},
   "source": [
    "## Metrics for each image"
   ]
  },
  {
   "cell_type": "code",
   "execution_count": null,
   "id": "c09a1f8a-0fe3-4093-b1d8-8a82f0977a77",
   "metadata": {},
   "outputs": [],
   "source": [
    "for metric, metric_name in zip([ndsc, f1, aac], ['nDSC', 'lesion f1', 'nDSC R-AUC']):\n",
    "    for i, set_ in enumerate(['dev_in', 'eval_in', 'dev_out']):\n",
    "        plt.figure(figsize=(20,7))\n",
    "        sns.barplot(y=metric[i], x=list(range(1, metric[i].shape[0]+1)))\n",
    "        plt.ylim(0,1)\n",
    "        plt.ylabel(metric_name)\n",
    "        plt.xlabel('Image')\n",
    "        plt.title(f'{metric_name} for each image - {set_}');"
   ]
  },
  {
   "cell_type": "markdown",
   "id": "96e10410-b277-4367-a41f-3f56451ac49f",
   "metadata": {},
   "source": [
    "## Correlation"
   ]
  },
  {
   "cell_type": "code",
   "execution_count": null,
   "id": "b0fe3201-7bda-4d88-a330-a5ac173ce251",
   "metadata": {},
   "outputs": [],
   "source": [
    "def plot_correlation(value, unit, extra_lim=100):\n",
    "    for set_ in ['dev_in', 'eval_in', 'dev_out']:\n",
    "        gt = np.load(os.path.join('..', 'test_predictions', model_name, set_, 'gt_' + value + '.npy'))\n",
    "        pred = np.load(os.path.join('..', 'test_predictions', model_name, set_, 'pred_' + value + '.npy'))\n",
    "\n",
    "        plt.figure(figsize=(15,9))\n",
    "        sns.regplot(x=pred, y=gt, truncate=False)\n",
    "        plt.xlabel(f'Pred {value} {unit}')\n",
    "        plt.ylabel(f'GT {value} {unit}')\n",
    "        plt.xlim(0, np.max(pred)+extra_lim)\n",
    "        plt.ylim(0, np.max(gt)+extra_lim)\n",
    "        plt.title(f'Correlation between ground truth and segmented lesion {value} - ' + set_)\n",
    "        plt.plot([0,np.max(pred)+extra_lim],[0,np.max(gt)+extra_lim], linestyle='dashed', label='GT')\n",
    "        plt.legend();"
   ]
  },
  {
   "cell_type": "code",
   "execution_count": null,
   "id": "eb1f673b-a696-4677-8d3d-63cca659d1f9",
   "metadata": {},
   "outputs": [],
   "source": [
    "plot_correlation('volume', '[voxels]')"
   ]
  },
  {
   "cell_type": "code",
   "execution_count": null,
   "id": "674d8ebc-9fec-4bc6-857a-95bd9737a7d5",
   "metadata": {},
   "outputs": [],
   "source": [
    "plot_correlation('count', '', extra_lim=10)"
   ]
  },
  {
   "cell_type": "markdown",
   "id": "4f147c04-89a1-42dc-ba2f-9e12e9a8b9cc",
   "metadata": {},
   "source": [
    "## Example predictions"
   ]
  },
  {
   "cell_type": "code",
   "execution_count": null,
   "id": "ff8d8951-0838-4c04-88c5-d924c329c5fd",
   "metadata": {},
   "outputs": [],
   "source": [
    "crop_foreground = CropForeground()\n",
    "crop = Crop()"
   ]
  },
  {
   "cell_type": "code",
   "execution_count": null,
   "id": "4077f5f8-6742-4e0f-85da-2f5cd4c2e5f5",
   "metadata": {},
   "outputs": [],
   "source": [
    "def get_paths(model_name, subset):\n",
    "    imgs = sorted(glob(f'../data/**/{subset}/flair/*.nii.gz', recursive=True), key=lambda i: int(re.sub('\\D', '', i)))\n",
    "    gts = sorted(glob(f'../data/**/{subset}/gt/*.nii.gz', recursive=True), key=lambda i: int(re.sub('\\D', '', i)))\n",
    "    preds = sorted(glob(f'../test_predictions/{model_name}/{subset}/predictions/*pred_seg.nii.gz', recursive=True), key=lambda i: int(re.sub('\\D', '', i)))\n",
    "    pred_probs = sorted(glob(f'../test_predictions/{model_name}/{subset}/predictions/*pred_prob.nii.gz', recursive=True), key=lambda i: int(re.sub('\\D', '', i)))\n",
    "    pred_uncs = sorted(glob(f'../test_predictions/{model_name}/{subset}/predictions/*uncs.nii.gz', recursive=True), key=lambda i: int(re.sub('\\D', '', i)))\n",
    "    \n",
    "    return imgs, gts, preds, pred_probs, pred_uncs\n",
    "\n",
    "\n",
    "def plot_example_predictions(img_num, imgs, gts, preds, pred_probs, pred_uncs, title, slice_num=100):\n",
    "    img = nib.load(imgs[img_num-1]).get_fdata()\n",
    "    gt = nib.load(gts[img_num-1]).get_fdata()\n",
    "    pred = nib.load(preds[img_num-1]).get_fdata()\n",
    "    # prob = nib.load(pred_probs[img_num-1]).get_fdata()\n",
    "    uncs = nib.load(pred_uncs[img_num-1]).get_fdata()\n",
    "    \n",
    "    img = np.expand_dims(img, 0)\n",
    "    gt = np.expand_dims(gt, 0)\n",
    "    pred = np.expand_dims(pred, 0)\n",
    "    # prob = np.expand_dims(prob, 0)\n",
    "    uncs = np.expand_dims(uncs, 0)\n",
    "    \n",
    "    img_gt = blend_images(img, gt, alpha=0.5, cmap='Greens')\n",
    "    img_pred = blend_images(img, pred, alpha=0.5, cmap='summer')\n",
    "    \n",
    "    bbox = crop_foreground.compute_bounding_box(img_gt)\n",
    "\n",
    "    img_gt = crop_foreground(img_gt)\n",
    "    \n",
    "    slices = crop.compute_slices(roi_start=bbox[0], roi_end=bbox[1])\n",
    "    img_pred = crop(img_pred, slices)\n",
    "    # prob = crop(prob, slices)\n",
    "    uncs = crop(uncs, slices)\n",
    "    \n",
    "    img_gt = np.transpose(img_gt, (1,2,3,0))\n",
    "    img_pred = np.transpose(img_pred, (1,2,3,0))\n",
    "    # prob = np.transpose(prob, (1,2,3,0))\n",
    "    uncs = np.transpose(uncs, (1,2,3,0))\n",
    "    \n",
    "    plt.subplot(131)\n",
    "    plt.imshow(img_gt[:,:,slice_num,:])\n",
    "    plt.gca().set_yticklabels([])\n",
    "    plt.gca().set_xticklabels([])\n",
    "    plt.gca().set_xticks([])\n",
    "    plt.gca().set_yticks([])\n",
    "    plt.ylabel(title, fontsize=35)\n",
    "    \n",
    "    plt.subplot(132)\n",
    "    plt.imshow(img_pred[:,:,slice_num,:])\n",
    "    plt.axis('off')\n",
    "    \n",
    "    plt.subplot(133)\n",
    "    plt.imshow(uncs[:,:,slice_num,:], vmin=0, vmax=1)\n",
    "    plt.colorbar(orientation='horizontal', pad=0.01)\n",
    "    plt.axis('off')\n",
    "    \n",
    "    plt.tight_layout()\n",
    "    # plt.savefig('preds_example.png')"
   ]
  },
  {
   "cell_type": "code",
   "execution_count": null,
   "id": "8ca81438-7e8c-467b-9731-6680560f8539",
   "metadata": {},
   "outputs": [],
   "source": [
    "plt.figure(figsize=(30,12))\n",
    "imgs, gts, preds, pred_probs, pred_uncs = get_paths(model_name, 'dev_in')\n",
    "plot_example_predictions(1, imgs, gts, preds, pred_probs, pred_uncs, 'dev_in', slice_num=85)"
   ]
  },
  {
   "cell_type": "code",
   "execution_count": null,
   "id": "21505437-4313-4cbe-963e-6e5ab263a1bf",
   "metadata": {},
   "outputs": [],
   "source": [
    "plt.figure(figsize=(30,10))\n",
    "imgs, gts, preds, pred_probs, pred_uncs = get_paths(model_name, 'eval_in')\n",
    "plot_example_predictions(1, imgs, gts, preds, pred_probs, pred_uncs, 'eval_in', slice_num=85)"
   ]
  },
  {
   "cell_type": "code",
   "execution_count": null,
   "id": "e71da9bb-735a-438a-8334-7ffdfc32f6cf",
   "metadata": {},
   "outputs": [],
   "source": [
    "plt.figure(figsize=(30,11))\n",
    "imgs, gts, preds, pred_probs, pred_uncs = get_paths(model_name, 'dev_out')\n",
    "plot_example_predictions(1, imgs, gts, preds, pred_probs, pred_uncs, 'dev_out', slice_num=85)"
   ]
  },
  {
   "cell_type": "code",
   "execution_count": null,
   "id": "5e3146ee-8a8a-4c60-9ce8-e1c35dbcb09e",
   "metadata": {},
   "outputs": [],
   "source": []
  }
 ],
 "metadata": {
  "kernelspec": {
   "display_name": "covid-ct",
   "language": "python",
   "name": "covid-ct"
  },
  "language_info": {
   "codemirror_mode": {
    "name": "ipython",
    "version": 3
   },
   "file_extension": ".py",
   "mimetype": "text/x-python",
   "name": "python",
   "nbconvert_exporter": "python",
   "pygments_lexer": "ipython3",
   "version": "3.8.12"
  }
 },
 "nbformat": 4,
 "nbformat_minor": 5
}
